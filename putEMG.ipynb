{
 "cells": [
  {
   "cell_type": "code",
   "execution_count": null,
   "id": "50cc053b",
   "metadata": {},
   "outputs": [
    {
     "name": "stdout",
     "output_type": "stream",
     "text": [
      "Keys in the file: ['#refs#', 'table']\n",
      "Data shape: (1, 7)\n",
      "Data type: object\n",
      "Data preview: [[<HDF5 object reference> <HDF5 object reference> <HDF5 object reference>\n",
      "  <HDF5 object reference> <HDF5 object reference> <HDF5 object reference>\n",
      "  <HDF5 object reference>]]\n"
     ]
    }
   ],
   "source": [
    "import h5py\n",
    "\n",
    "# Open the .mat file\n",
    "filename = 'subject3_to_7_data.mat'\n",
    "\n",
    "\n",
    "with h5py.File(filename, 'r') as f:\n",
    "    # List all top-level keys (which represent the variable names in the .mat file)\n",
    "    print(\"Keys in the file:\", list(f.keys()))\n",
    "\n",
    "    # Access a specific variable (e.g., 'my_variable')\n",
    "    dataset = f['table']  # Replace 'my_variable' with the actual variable name\n",
    "    data = dataset[:]  # Load the entire dataset into memory (or use slicing for partial loading)\n",
    "\n",
    "    # Now you can use the 'data' variable in your Python code\n",
    "    print(\"Data shape:\", data.shape)\n",
    "    print(\"Data type:\", data.dtype)\n",
    "    print(\"Data preview:\", data[:10])  # Preview the first 10 entries (or adjust as needed)\n",
    "\n",
    "\n",
    "\n",
    "\n",
    "\n",
    "\n",
    "    name = h5py.h5r.get_name(ref, file.id)\n",
    "    data = file[name].value # ndarray with the data in it.\n",
    "\n",
    "\n",
    "\n",
    "\n",
    "\n",
    "\n",
    "    "
   ]
  },
  {
   "cell_type": "code",
   "execution_count": null,
   "id": "41c29014",
   "metadata": {},
   "outputs": [],
   "source": []
  }
 ],
 "metadata": {
  "kernelspec": {
   "display_name": "Python 3.8 (tensorflow-gpu_1)",
   "language": "python",
   "name": "tensorflow-gpu"
  },
  "language_info": {
   "codemirror_mode": {
    "name": "ipython",
    "version": 3
   },
   "file_extension": ".py",
   "mimetype": "text/x-python",
   "name": "python",
   "nbconvert_exporter": "python",
   "pygments_lexer": "ipython3",
   "version": "3.8.17"
  }
 },
 "nbformat": 4,
 "nbformat_minor": 5
}
