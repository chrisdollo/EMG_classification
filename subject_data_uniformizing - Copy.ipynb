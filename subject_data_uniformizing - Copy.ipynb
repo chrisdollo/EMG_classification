{
 "cells": [
  {
   "cell_type": "code",
   "execution_count": null,
   "metadata": {},
   "outputs": [
    {
     "name": "stdout",
     "output_type": "stream",
     "text": [
      "Note: you may need to restart the kernel to use updated packages.\n"
     ]
    },
    {
     "name": "stderr",
     "output_type": "stream",
     "text": [
      "ERROR: Directory '.' is not installable. Neither 'setup.py' nor 'pyproject.toml' found.\n"
     ]
    }
   ],
   "source": []
  },
  {
   "cell_type": "code",
   "execution_count": 8,
   "metadata": {
    "id": "ApAYXdrk2pta"
   },
   "outputs": [],
   "source": [
    "import scipy\n",
    "import scipy.io\n",
    "from scipy import signal\n",
    "import numpy as np\n",
    "import matplotlib.pyplot as plt\n",
    "from scipy.io import savemat\n",
    "import os\n",
    "from feature_extraction import features_estimation"
   ]
  },
  {
   "cell_type": "code",
   "execution_count": 15,
   "metadata": {},
   "outputs": [],
   "source": [
    "num_of_subject = 54"
   ]
  },
  {
   "cell_type": "code",
   "execution_count": 57,
   "metadata": {},
   "outputs": [],
   "source": [
    "# Define the function to plot a graph\n",
    "def plot_signal_modification(time, original_signal, time1, new_signal):\n",
    "    \"\"\"\n",
    "    Function to plot a simple graph.\n",
    "\n",
    "    Parameters:\n",
    "    - x: List or array of x-values\n",
    "    - y: List or array of y-values\n",
    "    - title: Title of the graph (default: \"Graph\")\n",
    "    - xlabel: Label for the x-axis (default: \"X-axis\")\n",
    "    - ylabel: Label for the y-axis (default: \"Y-axis\")\n",
    "    \"\"\"\n",
    "\n",
    "    # Plotting the original EMG signal\n",
    "    plt.figure(figsize=(10, 5))\n",
    "    plt.plot(time, original_signal, color='b', linewidth=2)\n",
    "    plt.plot(time1, new_signal, color='r', linewidth=1)\n",
    "\n",
    "    # Adding labels and title\n",
    "    plt.xlabel(\"Time (s)\")\n",
    "    plt.ylabel(\"EMG Signal (mV)\")\n",
    "    plt.title(\"EMG Signal Over Time\")\n",
    "    plt.grid(True)\n",
    "\n",
    "\n",
    "    # time_resampled = np.linspace(0, time[-1], target_length)\n",
    "    \n",
    "    plt.show()\n"
   ]
  },
  {
   "cell_type": "code",
   "execution_count": 81,
   "metadata": {},
   "outputs": [],
   "source": [
    "def uniformize_data_subject(file_path, sub_num):\n",
    "\n",
    "\n",
    "    num_sensors = 24\n",
    "    target_length = 15376\n",
    "    sampling_rate = 5120\n",
    "\n",
    "\n",
    "    # Load the MATLAB file\n",
    "    mat_data = scipy.io.loadmat(file_path)\n",
    "    data = mat_data['subjectsSpecificSetGestures']\n",
    "    set_of_all_gesture_by_subject = np.array(data)\n",
    "\n",
    "    gestures = set_of_all_gesture_by_subject.shape[1]\n",
    "    repetitions = set_of_all_gesture_by_subject.shape[0]\n",
    "\n",
    "\n",
    "    # we access all repetitions of the 7 types of hand gestures\n",
    "    for i in range(repetitions): # shape (28,)\n",
    "\n",
    "        # we access a specific gesture type\n",
    "        for j in range(gestures):\n",
    "\n",
    "            # hand_gesture_type contains the electrovolts reading of the 24 sensors placed on the subjects arms at the ith repetition of the jth hand gesture type\n",
    "            hand_gesture_type = set_of_all_gesture_by_subject[i,j]    # shape(....,24)\n",
    "            \n",
    "            # we check if the sampling length of the signals of this gesture matches the desired length\n",
    "            if hand_gesture_type.shape[0] != target_length:\n",
    "\n",
    "                # if it isn't we create a new array of the appropriate size\n",
    "                new_gesture = np.zeros((target_length, num_sensors))\n",
    "\n",
    "                # for all sensors we modify the expand the length of the gesture recorded\n",
    "                for k in range(num_sensors):\n",
    "                    sample_to_alter = hand_gesture_type[:,k]  # shape (..., 1)\n",
    "                    resampled_signal = signal.resample(sample_to_alter , target_length)\n",
    "                    new_gesture[:,k] = resampled_signal\n",
    "\n",
    "                    # time = np.arange(len(sample_to_alter)) / sampling_rate\n",
    "                    # time2 = np.arange(len(resampled_signal)) / sampling_rate\n",
    "                    # plot_signal_modification(time, sample_to_alter, time2, resampled_signal)\n",
    "                \n",
    "                set_of_all_gesture_by_subject[i,j] = new_gesture\n",
    "\n",
    "    # Example data\n",
    "    output_data = {'processed_data': set_of_all_gesture_by_subject}\n",
    "\n",
    "\n",
    "\n",
    "    # Specify directory and filename\n",
    "    output_dir = \"E:\\\\Chris\\\\putEMG Project\\\\processed_data\"\n",
    "    os.makedirs(output_dir, exist_ok=True)  # Create the directory if it doesn't exist\n",
    "    output_path = os.path.join(output_dir, 'processed_gestures_subject'+ str(sub_num)+ '.mat')\n",
    "\n",
    "    # Save the file\n",
    "    savemat(output_path, output_data)\n",
    "    \n"
   ]
  },
  {
   "cell_type": "code",
   "execution_count": 32,
   "metadata": {},
   "outputs": [
    {
     "name": "stdout",
     "output_type": "stream",
     "text": [
      "E:\\Chris\\putEMG Project\\processed_data\\processed_gestures_subject3.mat\n",
      "EMG features were from channel 0 extracted successfully\n",
      "Empty DataFrame\n",
      "Columns: []\n",
      "Index: [VAR, RMS, IEMG, MAV, LOG, WL, ACC, DASDV, ZC, WAMP, MYOP, FR, MNP, TP, MNF, MDF, PKF, WENT]\n"
     ]
    }
   ],
   "source": [
    "subject = 3\n",
    "file_path = \"E:\\Chris\\putEMG Project\\processed_data\\processed_gestures_subject\"+ str(subject)+ \".mat\"\n",
    "print(file_path)\n",
    "\n",
    "mat_data = scipy.io.loadmat(file_path)\n",
    "data = mat_data['processed_data']\n",
    "set_of_all_gesture_by_subject = np.array(data)\n",
    "\n",
    "gestures = set_of_all_gesture_by_subject.shape[1]\n",
    "repetitions = set_of_all_gesture_by_subject.shape[0]\n",
    "\n",
    "\n",
    "\n",
    "test = set_of_all_gesture_by_subject[:,0][1][:,0]\n",
    "\n",
    "\n",
    "# EMG Feature Extraction\n",
    "emg_features, features_names = features_estimation(test, \"0\",\n",
    "                                                   5120, 20000, 100)\n",
    "\n",
    "\n",
    "print(emg_features)\n",
    "\n",
    "\n",
    "\n",
    "# uniformize_data_subject(file_path, subject)"
   ]
  },
  {
   "cell_type": "code",
   "execution_count": 6,
   "metadata": {
    "colab": {
     "base_uri": "https://localhost:8080/"
    },
    "id": "puKSUb3T_ZU6",
    "outputId": "afa5ba79-e0b7-496c-f9e2-980b4cc5f1d1"
   },
   "outputs": [],
   "source": [
    "# for subject in range(1,num_of_subject):\n",
    "#     if subject not in [0,1,2,21,28,32,37,40,41,44,52]:\n",
    "#         file_path = \"E:\\Chris\\putEMG Project\\subject_gestures\\subject\"+ str(subject)+ \"_gestures.mat\"\n",
    "#         print(file_path)\n",
    "#         uniformize_data_subject(file_path, subject)\n",
    "\n",
    "\n",
    "\n",
    "    "
   ]
  },
  {
   "cell_type": "code",
   "execution_count": null,
   "metadata": {
    "id": "vQpOHXk2usAB"
   },
   "outputs": [],
   "source": []
  }
 ],
 "metadata": {
  "colab": {
   "provenance": []
  },
  "kernelspec": {
   "display_name": "Python 3.8 (tensorflow-gpu_1)",
   "language": "python",
   "name": "tensorflow-gpu"
  },
  "language_info": {
   "codemirror_mode": {
    "name": "ipython",
    "version": 3
   },
   "file_extension": ".py",
   "mimetype": "text/x-python",
   "name": "python",
   "nbconvert_exporter": "python",
   "pygments_lexer": "ipython3",
   "version": "3.8.17"
  }
 },
 "nbformat": 4,
 "nbformat_minor": 0
}
